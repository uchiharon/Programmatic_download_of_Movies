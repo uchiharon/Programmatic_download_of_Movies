{
 "cells": [
  {
   "cell_type": "markdown",
   "metadata": {},
   "source": [
    "# How To Download A Single Movie Programmatically\n",
    "Import the required libraries, `requests` library for carrying out the download,\n",
    "`os` library for folder management"
   ]
  },
  {
   "cell_type": "code",
   "execution_count": 1,
   "metadata": {},
   "outputs": [
    {
     "name": "stdout",
     "output_type": "stream",
     "text": [
      "06 200\n",
      "It took 81.89160490036011 seconds\n",
      "07 200\n",
      "It took 104.21980237960815 seconds\n",
      "08 200\n",
      "It took 88.08095669746399 seconds\n",
      "09 200\n",
      "It took 100.60259342193604 seconds\n",
      "10 200\n",
      "It took 77.39810156822205 seconds\n",
      "11 200\n",
      "It took 113.07520341873169 seconds\n"
     ]
    },
    {
     "ename": "NameError",
     "evalue": "name 'Print' is not defined",
     "output_type": "error",
     "traceback": [
      "\u001b[1;31m---------------------------------------------------------------------------\u001b[0m",
      "\u001b[1;31mNameError\u001b[0m                                 Traceback (most recent call last)",
      "\u001b[1;32m<ipython-input-1-267aca93b55c>\u001b[0m in \u001b[0;36m<module>\u001b[1;34m\u001b[0m\n\u001b[0;32m     27\u001b[0m             \u001b[0mfile\u001b[0m\u001b[1;33m.\u001b[0m\u001b[0mwrite\u001b[0m\u001b[1;33m(\u001b[0m\u001b[0mchunk\u001b[0m\u001b[1;33m)\u001b[0m\u001b[1;33m\u001b[0m\u001b[1;33m\u001b[0m\u001b[0m\n\u001b[0;32m     28\u001b[0m     \u001b[0mprint\u001b[0m\u001b[1;33m(\u001b[0m\u001b[1;34m'It took {} seconds'\u001b[0m\u001b[1;33m.\u001b[0m\u001b[0mformat\u001b[0m\u001b[1;33m(\u001b[0m\u001b[0mtime\u001b[0m\u001b[1;33m.\u001b[0m\u001b[0mtime\u001b[0m\u001b[1;33m(\u001b[0m\u001b[1;33m)\u001b[0m\u001b[1;33m-\u001b[0m \u001b[0ma\u001b[0m\u001b[1;33m)\u001b[0m\u001b[1;33m)\u001b[0m\u001b[1;33m\u001b[0m\u001b[1;33m\u001b[0m\u001b[0m\n\u001b[1;32m---> 29\u001b[1;33m \u001b[0mPrint\u001b[0m\u001b[1;33m(\u001b[0m\u001b[1;34m'Downloading is Complete and it took {} seconds'\u001b[0m\u001b[1;33m.\u001b[0m\u001b[0mformat\u001b[0m\u001b[1;33m(\u001b[0m\u001b[0mtime\u001b[0m\u001b[1;33m.\u001b[0m\u001b[0mtime\u001b[0m\u001b[1;33m(\u001b[0m\u001b[1;33m)\u001b[0m \u001b[1;33m-\u001b[0m \u001b[0mstart\u001b[0m\u001b[1;33m)\u001b[0m\u001b[1;33m)\u001b[0m\u001b[1;33m\u001b[0m\u001b[1;33m\u001b[0m\u001b[0m\n\u001b[0m",
      "\u001b[1;31mNameError\u001b[0m: name 'Print' is not defined"
     ]
    }
   ],
   "source": [
    "import time\n",
    "import requests \n",
    "import os\n",
    "import numpy as np\n",
    "start  = time.time()\n",
    "episodes = ['16','17','18','19','20','21','22']\n",
    "for episode in episodes:\n",
    "    a = time.time()\n",
    "    url = 'http://d10.o2tv.org/How%20I%20Met%20Your%20Mother/Season%2002/How%20I%20Met%20Your%20Mother%20-%20S02E{}%20(O2TvSeries.Com).mp4'.format(episode)\n",
    "    # url was obtained from the website \n",
    "    #Carryout the download\n",
    "    r = requests.get(url, stream =True)\n",
    "    # Check the download status\n",
    "    print(episode, r.status_code)\n",
    "    # If status is 200, it means the download was successful\n",
    "    #If status is 404, it means request could not be found\n",
    "    chunk_size = 1000\n",
    "    folder_name = 'How_I_Met_Your_Mother'\n",
    "    # Create the folder if it's not existing in the current directory were the python script is currently run from\n",
    "    if not os.path.exists(folder_name):\n",
    "        os.makedirs(folder_name)\n",
    "    # Open the folder and file you want to save the movie to.\n",
    "    # NOTE: If the 'url' is split by /, the last part states the file name and type\n",
    "    # 'url.split('/')[-1]' help to split the url by / and return just the last part\n",
    "    with open(os.path.join(folder_name, 'How I Met Your Mother - S02E{} HD (TvShows4Mobile.Com).mp4'.format(episode)), mode='wb') as file:\n",
    "        for chunk in r.iter_content(chunk_size = chunk_size):\n",
    "            file.write(chunk)\n",
    "    print('It took {} seconds'.format(time.time()- a))\n",
    "print('Downloading is Complete and it took {} seconds'.format(time.time() - start))"
   ]
  },
  {
   "cell_type": "code",
   "execution_count": null,
   "metadata": {},
   "outputs": [],
   "source": []
  }
 ],
 "metadata": {
  "kernelspec": {
   "display_name": "Python 3",
   "language": "python",
   "name": "python3"
  },
  "language_info": {
   "codemirror_mode": {
    "name": "ipython",
    "version": 3
   },
   "file_extension": ".py",
   "mimetype": "text/x-python",
   "name": "python",
   "nbconvert_exporter": "python",
   "pygments_lexer": "ipython3",
   "version": "3.7.4"
  }
 },
 "nbformat": 4,
 "nbformat_minor": 2
}
