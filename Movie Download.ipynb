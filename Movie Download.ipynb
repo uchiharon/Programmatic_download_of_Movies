{
 "cells": [
  {
   "cell_type": "markdown",
   "metadata": {},
   "source": [
    "# How To Download A Single Movie Programmatically\n",
    "Import the required libraries, `requests` library for carrying out the download,\n",
    "`os` library for folder management"
   ]
  },
  {
   "cell_type": "code",
   "execution_count": 1,
   "metadata": {},
   "outputs": [
    {
     "name": "stdout",
     "output_type": "stream",
     "text": [
      "200\n"
     ]
    }
   ],
   "source": [
    "import requests \n",
    "import os\n",
    "# url was obtained from the website \n",
    "url = 'http://d10.o2tv.org/The%20Gifted/Season%2001/The%20Gifted%20-%20S01E01%20(TvShows4Mobile.Com).3gp'\n",
    "#Carryout the download\n",
    "r = requests.get(url, stream =True)\n",
    "# Check the download status\n",
    "print(r.status_code)\n",
    "# If status is 200, it means the download was successful\n",
    "#If status is 404, it means request could not be found"
   ]
  },
  {
   "cell_type": "markdown",
   "metadata": {},
   "source": [
    "In the above cell, the file was downloaded but currently streamed and not a file.\\\n",
    "If stream argument wasn't used in the `request.get()` function,, the downloaded file would have been saved to the computer temporary memory.\\\n",
    "**Below is how to save the movie to a file**"
   ]
  },
  {
   "cell_type": "code",
   "execution_count": 2,
   "metadata": {},
   "outputs": [],
   "source": [
    "chunk_size = 1000\n",
    "folder_name = 'The_Gifted'\n",
    "# Create the folder if it's not existing in the current directory were the python script is currently run from\n",
    "if not os.path.exists(folder_name):\n",
    "    os.makedirs(folder_name)\n",
    "# Open the folder and file you want to save the movie to.\n",
    "# NOTE: If the 'url' is split by /, the last part states the file name and type\n",
    "# 'url.split('/')[-1]' help to split the url by / and return just the last part\n",
    "with open(os.path.join(folder_name, url.split('/')[-1]), mode='wb') as file:\n",
    "    for chunk in r.iter_content(chunk_size = chunk_size):\n",
    "        file.write(chunk)"
   ]
  },
  {
   "cell_type": "markdown",
   "metadata": {},
   "source": [
    "With the above code, the download is completed "
   ]
  }
 ],
 "metadata": {
  "kernelspec": {
   "display_name": "Python 3",
   "language": "python",
   "name": "python3"
  },
  "language_info": {
   "codemirror_mode": {
    "name": "ipython",
    "version": 3
   },
   "file_extension": ".py",
   "mimetype": "text/x-python",
   "name": "python",
   "nbconvert_exporter": "python",
   "pygments_lexer": "ipython3",
   "version": "3.7.4"
  }
 },
 "nbformat": 4,
 "nbformat_minor": 2
}
